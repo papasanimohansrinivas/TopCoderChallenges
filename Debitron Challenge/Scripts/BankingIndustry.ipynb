{
 "cells": [
  {
   "cell_type": "markdown",
   "metadata": {},
   "source": [
    "# Debitron Machine Learning NoteBook / TopCoder\n",
    "\n",
    "### Challenge asks us to maximise daily collected Amount_Due\n",
    "\n",
    "##### Initially I wanted to see whether Bot will fail with the task or not given the balance from my model"
   ]
  },
  {
   "cell_type": "markdown",
   "metadata": {},
   "source": [
    "### Requirements:\n",
    "####      Python 2.7 \n",
    "#### Sklearn \n",
    "#### Pandas\n",
    "#### Pickle\n",
    "#### Anaconda or Jupyter NoteBook for running this notebook"
   ]
  },
  {
   "cell_type": "markdown",
   "metadata": {},
   "source": [
    "\n",
    "\n",
    "### I am going to use this notebook for exploratory purposes and serialise models depending on the results"
   ]
  },
  {
   "cell_type": "markdown",
   "metadata": {},
   "source": [
    "### Serialised models are always found in the 'Serialised Model' and you could use them in production or validation"
   ]
  },
  {
   "cell_type": "code",
   "execution_count": 195,
   "metadata": {
    "collapsed": true
   },
   "outputs": [],
   "source": [
    "from __future__ import division\n",
    "\n",
    "import sklearn\n"
   ]
  },
  {
   "cell_type": "markdown",
   "metadata": {},
   "source": [
    "### get file paths for given project files\n",
    "\n",
    "\n",
    "\n",
    "### make sure change below path style  according to system you are using\n",
    "\n",
    "### I am running this code on windows so paths are written in that manner "
   ]
  },
  {
   "cell_type": "code",
   "execution_count": 232,
   "metadata": {
    "collapsed": true
   },
   "outputs": [],
   "source": [
    "file_path='C:/Users/papasani.mohan/Pictures/TopCoder/Debitron Challenge/Training Data/'"
   ]
  },
  {
   "cell_type": "code",
   "execution_count": 233,
   "metadata": {
    "collapsed": true
   },
   "outputs": [],
   "source": [
    "import pandas as pd"
   ]
  },
  {
   "cell_type": "code",
   "execution_count": 234,
   "metadata": {
    "collapsed": true
   },
   "outputs": [],
   "source": [
    "file_1 = file_path+'CompiledDDBs_Challenge_v3_2.xlsx'\n",
    "file_2 = file_path+'DataDictionary_Challenge_v2.xlsx'"
   ]
  },
  {
   "cell_type": "code",
   "execution_count": 235,
   "metadata": {
    "collapsed": true
   },
   "outputs": [],
   "source": [
    "read_excel=pd.read_excel"
   ]
  },
  {
   "cell_type": "code",
   "execution_count": 236,
   "metadata": {},
   "outputs": [],
   "source": [
    "file_=read_excel(file_1)"
   ]
  },
  {
   "cell_type": "markdown",
   "metadata": {},
   "source": [
    "### Data Display"
   ]
  },
  {
   "cell_type": "code",
   "execution_count": 231,
   "metadata": {},
   "outputs": [
    {
     "data": {
      "text/html": [
       "<div>\n",
       "<style>\n",
       "    .dataframe thead tr:only-child th {\n",
       "        text-align: right;\n",
       "    }\n",
       "\n",
       "    .dataframe thead th {\n",
       "        text-align: left;\n",
       "    }\n",
       "\n",
       "    .dataframe tbody tr th {\n",
       "        vertical-align: top;\n",
       "    }\n",
       "</style>\n",
       "<table border=\"1\" class=\"dataframe\">\n",
       "  <thead>\n",
       "    <tr style=\"text-align: right;\">\n",
       "      <th></th>\n",
       "      <th>PRODUCT_ID</th>\n",
       "      <th>AMOUNT_DUE</th>\n",
       "      <th>SAVING_ACCOUNT</th>\n",
       "      <th>CLIENT_ID</th>\n",
       "      <th>BOT_JOB</th>\n",
       "      <th>DATE</th>\n",
       "      <th>DAYS_DUE</th>\n",
       "      <th>CREDIT_BALANCE</th>\n",
       "      <th>SAVING_BALANCE</th>\n",
       "      <th>PRODUCT_DESCRIPTION</th>\n",
       "      <th>...</th>\n",
       "      <th>balance51</th>\n",
       "      <th>balance52</th>\n",
       "      <th>balance53</th>\n",
       "      <th>balance54</th>\n",
       "      <th>balance55</th>\n",
       "      <th>balance56</th>\n",
       "      <th>balance57</th>\n",
       "      <th>balance58</th>\n",
       "      <th>balance59</th>\n",
       "      <th>balance60</th>\n",
       "    </tr>\n",
       "  </thead>\n",
       "  <tbody>\n",
       "    <tr>\n",
       "      <th>0</th>\n",
       "      <td>4.991939e+07</td>\n",
       "      <td>1.019017e+05</td>\n",
       "      <td>5623831</td>\n",
       "      <td>349647.089431</td>\n",
       "      <td>1</td>\n",
       "      <td>43018</td>\n",
       "      <td>5</td>\n",
       "      <td>4.499204e+05</td>\n",
       "      <td>7.471732e+05</td>\n",
       "      <td>REESTRUC. IT. VDO. TASA FIJA</td>\n",
       "      <td>...</td>\n",
       "      <td>-1161221.0</td>\n",
       "      <td>-1037937.0</td>\n",
       "      <td>308179.0</td>\n",
       "      <td>287610.0</td>\n",
       "      <td>-518425.0</td>\n",
       "      <td>-1095370.0</td>\n",
       "      <td>1039822.0</td>\n",
       "      <td>304792.0</td>\n",
       "      <td>278647.0</td>\n",
       "      <td>1412020.0</td>\n",
       "    </tr>\n",
       "    <tr>\n",
       "      <th>1</th>\n",
       "      <td>1.552915e+07</td>\n",
       "      <td>1.743066e+06</td>\n",
       "      <td>0-0089568-2</td>\n",
       "      <td>425392.439024</td>\n",
       "      <td>0</td>\n",
       "      <td>42958</td>\n",
       "      <td>44</td>\n",
       "      <td>1.684754e+07</td>\n",
       "      <td>1.883251e+06</td>\n",
       "      <td>REESTRUC. IT. VDO. TASA FIJA</td>\n",
       "      <td>...</td>\n",
       "      <td>1033862.0</td>\n",
       "      <td>235346.0</td>\n",
       "      <td>-1451180.0</td>\n",
       "      <td>46820.0</td>\n",
       "      <td>-419336.0</td>\n",
       "      <td>-38204.0</td>\n",
       "      <td>-1230240.0</td>\n",
       "      <td>1267150.0</td>\n",
       "      <td>1180955.0</td>\n",
       "      <td>-624761.0</td>\n",
       "    </tr>\n",
       "    <tr>\n",
       "      <th>2</th>\n",
       "      <td>5.014717e+08</td>\n",
       "      <td>1.389400e+05</td>\n",
       "      <td>0-0141975-3</td>\n",
       "      <td>583469.642276</td>\n",
       "      <td>0</td>\n",
       "      <td>42972</td>\n",
       "      <td>10</td>\n",
       "      <td>4.162013e+06</td>\n",
       "      <td>4.453994e+05</td>\n",
       "      <td>CREDIAGIL</td>\n",
       "      <td>...</td>\n",
       "      <td>-615975.0</td>\n",
       "      <td>-716836.0</td>\n",
       "      <td>1174061.0</td>\n",
       "      <td>411650.0</td>\n",
       "      <td>-763612.0</td>\n",
       "      <td>470047.0</td>\n",
       "      <td>-205796.0</td>\n",
       "      <td>-76068.0</td>\n",
       "      <td>744420.0</td>\n",
       "      <td>1234591.0</td>\n",
       "    </tr>\n",
       "    <tr>\n",
       "      <th>3</th>\n",
       "      <td>6.471615e+07</td>\n",
       "      <td>1.248517e+05</td>\n",
       "      <td>0-0151651-8</td>\n",
       "      <td>741712.032520</td>\n",
       "      <td>0</td>\n",
       "      <td>42992</td>\n",
       "      <td>11</td>\n",
       "      <td>3.611734e+06</td>\n",
       "      <td>3.040092e+05</td>\n",
       "      <td>REESTRUC. IT. VDO. TASA FIJA</td>\n",
       "      <td>...</td>\n",
       "      <td>-1230425.0</td>\n",
       "      <td>-45796.0</td>\n",
       "      <td>-226799.0</td>\n",
       "      <td>-193076.0</td>\n",
       "      <td>-900839.0</td>\n",
       "      <td>961116.0</td>\n",
       "      <td>1179674.0</td>\n",
       "      <td>475245.0</td>\n",
       "      <td>-1123570.0</td>\n",
       "      <td>-1052933.0</td>\n",
       "    </tr>\n",
       "    <tr>\n",
       "      <th>4</th>\n",
       "      <td>6.496007e+07</td>\n",
       "      <td>3.893303e+04</td>\n",
       "      <td>0-0151711-5</td>\n",
       "      <td>109860.260163</td>\n",
       "      <td>1</td>\n",
       "      <td>43007</td>\n",
       "      <td>27</td>\n",
       "      <td>4.633981e+06</td>\n",
       "      <td>1.730275e+05</td>\n",
       "      <td>COMPRA CARTERA L INVERSION</td>\n",
       "      <td>...</td>\n",
       "      <td>934280.0</td>\n",
       "      <td>-1002239.0</td>\n",
       "      <td>-1105649.0</td>\n",
       "      <td>472895.0</td>\n",
       "      <td>505495.0</td>\n",
       "      <td>1143718.0</td>\n",
       "      <td>-1105477.0</td>\n",
       "      <td>558750.0</td>\n",
       "      <td>-755117.0</td>\n",
       "      <td>1181246.0</td>\n",
       "    </tr>\n",
       "    <tr>\n",
       "      <th>5</th>\n",
       "      <td>5.528525e+07</td>\n",
       "      <td>1.370670e+05</td>\n",
       "      <td>0-0159214-0</td>\n",
       "      <td>639805.495935</td>\n",
       "      <td>1</td>\n",
       "      <td>42992</td>\n",
       "      <td>15</td>\n",
       "      <td>3.655331e+06</td>\n",
       "      <td>3.017669e+05</td>\n",
       "      <td>PERSONAL TASA FIJA S.DESEMPLEO</td>\n",
       "      <td>...</td>\n",
       "      <td>-1324891.0</td>\n",
       "      <td>-703192.0</td>\n",
       "      <td>1174161.0</td>\n",
       "      <td>155235.0</td>\n",
       "      <td>-18322.0</td>\n",
       "      <td>692936.0</td>\n",
       "      <td>-1035196.0</td>\n",
       "      <td>-916300.0</td>\n",
       "      <td>43284.0</td>\n",
       "      <td>-437353.0</td>\n",
       "    </tr>\n",
       "    <tr>\n",
       "      <th>6</th>\n",
       "      <td>3.252760e+06</td>\n",
       "      <td>1.366626e+05</td>\n",
       "      <td>0-0179638-6</td>\n",
       "      <td>422237.666667</td>\n",
       "      <td>1</td>\n",
       "      <td>43026</td>\n",
       "      <td>6</td>\n",
       "      <td>2.261017e+06</td>\n",
       "      <td>6.952224e+05</td>\n",
       "      <td>PRESTANOMINA EXEMPLEADO</td>\n",
       "      <td>...</td>\n",
       "      <td>631126.0</td>\n",
       "      <td>-22566.0</td>\n",
       "      <td>-845566.0</td>\n",
       "      <td>-327020.0</td>\n",
       "      <td>247602.0</td>\n",
       "      <td>870647.0</td>\n",
       "      <td>-941419.0</td>\n",
       "      <td>690393.0</td>\n",
       "      <td>1477341.0</td>\n",
       "      <td>-130184.0</td>\n",
       "    </tr>\n",
       "  </tbody>\n",
       "</table>\n",
       "<p>7 rows × 75 columns</p>\n",
       "</div>"
      ],
      "text/plain": [
       "     PRODUCT_ID    AMOUNT_DUE SAVING_ACCOUNT      CLIENT_ID  BOT_JOB   DATE  \\\n",
       "0  4.991939e+07  1.019017e+05        5623831  349647.089431        1  43018   \n",
       "1  1.552915e+07  1.743066e+06    0-0089568-2  425392.439024        0  42958   \n",
       "2  5.014717e+08  1.389400e+05    0-0141975-3  583469.642276        0  42972   \n",
       "3  6.471615e+07  1.248517e+05    0-0151651-8  741712.032520        0  42992   \n",
       "4  6.496007e+07  3.893303e+04    0-0151711-5  109860.260163        1  43007   \n",
       "5  5.528525e+07  1.370670e+05    0-0159214-0  639805.495935        1  42992   \n",
       "6  3.252760e+06  1.366626e+05    0-0179638-6  422237.666667        1  43026   \n",
       "\n",
       "   DAYS_DUE  CREDIT_BALANCE  SAVING_BALANCE             PRODUCT_DESCRIPTION  \\\n",
       "0         5    4.499204e+05    7.471732e+05    REESTRUC. IT. VDO. TASA FIJA   \n",
       "1        44    1.684754e+07    1.883251e+06    REESTRUC. IT. VDO. TASA FIJA   \n",
       "2        10    4.162013e+06    4.453994e+05                       CREDIAGIL   \n",
       "3        11    3.611734e+06    3.040092e+05    REESTRUC. IT. VDO. TASA FIJA   \n",
       "4        27    4.633981e+06    1.730275e+05      COMPRA CARTERA L INVERSION   \n",
       "5        15    3.655331e+06    3.017669e+05  PERSONAL TASA FIJA S.DESEMPLEO   \n",
       "6         6    2.261017e+06    6.952224e+05         PRESTANOMINA EXEMPLEADO   \n",
       "\n",
       "     ...      balance51  balance52  balance53  balance54  balance55  \\\n",
       "0    ...     -1161221.0 -1037937.0   308179.0   287610.0  -518425.0   \n",
       "1    ...      1033862.0   235346.0 -1451180.0    46820.0  -419336.0   \n",
       "2    ...      -615975.0  -716836.0  1174061.0   411650.0  -763612.0   \n",
       "3    ...     -1230425.0   -45796.0  -226799.0  -193076.0  -900839.0   \n",
       "4    ...       934280.0 -1002239.0 -1105649.0   472895.0   505495.0   \n",
       "5    ...     -1324891.0  -703192.0  1174161.0   155235.0   -18322.0   \n",
       "6    ...       631126.0   -22566.0  -845566.0  -327020.0   247602.0   \n",
       "\n",
       "   balance56  balance57  balance58  balance59  balance60  \n",
       "0 -1095370.0  1039822.0   304792.0   278647.0  1412020.0  \n",
       "1   -38204.0 -1230240.0  1267150.0  1180955.0  -624761.0  \n",
       "2   470047.0  -205796.0   -76068.0   744420.0  1234591.0  \n",
       "3   961116.0  1179674.0   475245.0 -1123570.0 -1052933.0  \n",
       "4  1143718.0 -1105477.0   558750.0  -755117.0  1181246.0  \n",
       "5   692936.0 -1035196.0  -916300.0    43284.0  -437353.0  \n",
       "6   870647.0  -941419.0   690393.0  1477341.0  -130184.0  \n",
       "\n",
       "[7 rows x 75 columns]"
      ]
     },
     "execution_count": 231,
     "metadata": {},
     "output_type": "execute_result"
    }
   ],
   "source": [
    "file_.head(7)\n",
    "# file__.head(12)"
   ]
  },
  {
   "cell_type": "markdown",
   "metadata": {},
   "source": [
    "### Labelling the data"
   ]
  },
  {
   "cell_type": "code",
   "execution_count": 202,
   "metadata": {
    "collapsed": true
   },
   "outputs": [],
   "source": [
    "# map(type,file_['CLIENT_ID'])\n",
    "file_['BOT_JOB']=[1 if u=='APPROVED' else 0 for u in file_['BOT_JOB'] ]"
   ]
  },
  {
   "cell_type": "code",
   "execution_count": 203,
   "metadata": {
    "collapsed": true
   },
   "outputs": [],
   "source": [
    "\n",
    "file__=read_excel(file_2)\n"
   ]
  },
  {
   "cell_type": "code",
   "execution_count": 204,
   "metadata": {},
   "outputs": [
    {
     "data": {
      "text/html": [
       "<div>\n",
       "<style>\n",
       "    .dataframe thead tr:only-child th {\n",
       "        text-align: right;\n",
       "    }\n",
       "\n",
       "    .dataframe thead th {\n",
       "        text-align: left;\n",
       "    }\n",
       "\n",
       "    .dataframe tbody tr th {\n",
       "        vertical-align: top;\n",
       "    }\n",
       "</style>\n",
       "<table border=\"1\" class=\"dataframe\">\n",
       "  <thead>\n",
       "    <tr style=\"text-align: right;\">\n",
       "      <th></th>\n",
       "      <th>Columns</th>\n",
       "      <th>Consumer DDB</th>\n",
       "      <th>Description</th>\n",
       "    </tr>\n",
       "  </thead>\n",
       "  <tbody>\n",
       "    <tr>\n",
       "      <th>0</th>\n",
       "      <td>PRODUCT_ID</td>\n",
       "      <td>X</td>\n",
       "      <td>Product unique ID (it might refer to a specifi...</td>\n",
       "    </tr>\n",
       "    <tr>\n",
       "      <th>1</th>\n",
       "      <td>AMOUNT_DUE</td>\n",
       "      <td>X</td>\n",
       "      <td>Is the collectable amount, which is due by cus...</td>\n",
       "    </tr>\n",
       "    <tr>\n",
       "      <th>2</th>\n",
       "      <td>SAVING_ACCOUNT</td>\n",
       "      <td>X</td>\n",
       "      <td>Is the account number from where Bot expect to...</td>\n",
       "    </tr>\n",
       "    <tr>\n",
       "      <th>3</th>\n",
       "      <td>CLIENT_ID</td>\n",
       "      <td>X</td>\n",
       "      <td>Customer unique ID</td>\n",
       "    </tr>\n",
       "    <tr>\n",
       "      <th>4</th>\n",
       "      <td>BOT_JOB</td>\n",
       "      <td>X</td>\n",
       "      <td>Result of the job executed by JOB. \"Approved\":...</td>\n",
       "    </tr>\n",
       "    <tr>\n",
       "      <th>5</th>\n",
       "      <td>DATE</td>\n",
       "      <td>X</td>\n",
       "      <td>Date of the DDB generated</td>\n",
       "    </tr>\n",
       "    <tr>\n",
       "      <th>6</th>\n",
       "      <td>DAYS_DUE</td>\n",
       "      <td>X</td>\n",
       "      <td>Days due at the date of DDB (DATE)</td>\n",
       "    </tr>\n",
       "    <tr>\n",
       "      <th>7</th>\n",
       "      <td>CREDIT_BALANCE</td>\n",
       "      <td>X</td>\n",
       "      <td>Total debt of the customer</td>\n",
       "    </tr>\n",
       "    <tr>\n",
       "      <th>8</th>\n",
       "      <td>SAVING_BALANCE</td>\n",
       "      <td>X</td>\n",
       "      <td>Balance in the Saving/Checking account at the ...</td>\n",
       "    </tr>\n",
       "    <tr>\n",
       "      <th>9</th>\n",
       "      <td>PRODUCT_DESCRIPTION</td>\n",
       "      <td>X</td>\n",
       "      <td>Is text description of the product (i.e. Name ...</td>\n",
       "    </tr>\n",
       "  </tbody>\n",
       "</table>\n",
       "</div>"
      ],
      "text/plain": [
       "               Columns Consumer DDB  \\\n",
       "0           PRODUCT_ID            X   \n",
       "1           AMOUNT_DUE            X   \n",
       "2       SAVING_ACCOUNT            X   \n",
       "3            CLIENT_ID            X   \n",
       "4              BOT_JOB            X   \n",
       "5                 DATE            X   \n",
       "6             DAYS_DUE            X   \n",
       "7       CREDIT_BALANCE            X   \n",
       "8       SAVING_BALANCE            X   \n",
       "9  PRODUCT_DESCRIPTION            X   \n",
       "\n",
       "                                         Description  \n",
       "0  Product unique ID (it might refer to a specifi...  \n",
       "1  Is the collectable amount, which is due by cus...  \n",
       "2  Is the account number from where Bot expect to...  \n",
       "3                                 Customer unique ID  \n",
       "4  Result of the job executed by JOB. \"Approved\":...  \n",
       "5                          Date of the DDB generated  \n",
       "6                 Days due at the date of DDB (DATE)  \n",
       "7                        Total debt of the customer   \n",
       "8  Balance in the Saving/Checking account at the ...  \n",
       "9  Is text description of the product (i.e. Name ...  "
      ]
     },
     "execution_count": 204,
     "metadata": {},
     "output_type": "execute_result"
    }
   ],
   "source": [
    "file__.head(10)"
   ]
  },
  {
   "cell_type": "code",
   "execution_count": 205,
   "metadata": {
    "collapsed": true
   },
   "outputs": [],
   "source": [
    "def normalise(column_name,dataframe):\n",
    "    normalized_df=(dataframe[column_name]-dataframe[column_name].min())/(dataframe[column_name].max()-dataframe[column_name].min())\n",
    "    return normalized_df"
   ]
  },
  {
   "cell_type": "markdown",
   "metadata": {},
   "source": [
    "##  Model_1\n",
    "\n",
    "##### Seperate Columns  balance0,balance1, from file_ and load them ... into seperate dataframe\n"
   ]
  },
  {
   "cell_type": "markdown",
   "metadata": {},
   "source": [
    "## Data ....\n",
    "\n",
    "#### Take  desired columns from 'file_'  dataframe and combine them into a new 'df' dataframe\n",
    "\n"
   ]
  },
  {
   "cell_type": "code",
   "execution_count": 206,
   "metadata": {
    "collapsed": true
   },
   "outputs": [],
   "source": [
    "df=file_[['balance'+str(ind) for ind in xrange(60,0,-1)]+['SAVING_BALANCE']+['BOT_JOB']]"
   ]
  },
  {
   "cell_type": "markdown",
   "metadata": {},
   "source": [
    "### Normalise DataFrame\n",
    "\n",
    "#### I normalised dataframe so that algorithm runs smooth\n",
    "\n",
    "#### below is z means normalisation\n"
   ]
  },
  {
   "cell_type": "code",
   "execution_count": 207,
   "metadata": {},
   "outputs": [],
   "source": [
    "df1 = (df - df.mean())/df.std()"
   ]
  },
  {
   "cell_type": "code",
   "execution_count": 208,
   "metadata": {
    "collapsed": true
   },
   "outputs": [],
   "source": [
    "def display_df1():\n",
    "    display(df1)"
   ]
  },
  {
   "cell_type": "code",
   "execution_count": 209,
   "metadata": {
    "collapsed": true
   },
   "outputs": [],
   "source": [
    "df2 = (df-df.min())/(df.max()-df.min())"
   ]
  },
  {
   "cell_type": "code",
   "execution_count": 210,
   "metadata": {
    "collapsed": true
   },
   "outputs": [],
   "source": [
    "# display(df2)"
   ]
  },
  {
   "cell_type": "markdown",
   "metadata": {},
   "source": [
    "#### I split data set as 2:3 as a sample "
   ]
  },
  {
   "cell_type": "code",
   "execution_count": 211,
   "metadata": {
    "collapsed": true
   },
   "outputs": [],
   "source": [
    "train,test = df2[:20000],df2[20000:]"
   ]
  },
  {
   "cell_type": "code",
   "execution_count": 212,
   "metadata": {
    "collapsed": true
   },
   "outputs": [],
   "source": [
    "# train"
   ]
  },
  {
   "cell_type": "markdown",
   "metadata": {},
   "source": [
    "### LogisticRegression\n",
    "\n",
    "##### My belief is that with enough data u can predict well with Logistic Regression\n",
    "\n",
    "\n"
   ]
  },
  {
   "cell_type": "markdown",
   "metadata": {},
   "source": [
    "### sklearn is a Machine Learning library  / module \n",
    "\n",
    "#### If you don't have sklearn module you can follow instructions from here\n",
    "__[sklearn installation](http://scikit-learn.org/stable/install.html )__\n"
   ]
  },
  {
   "cell_type": "code",
   "execution_count": 213,
   "metadata": {
    "collapsed": true
   },
   "outputs": [],
   "source": [
    "from sklearn.linear_model import LogisticRegression\n",
    "\n",
    "# from sklearn.linear_model import LinearRegression\n",
    "\n",
    "from sklearn.naive_bayes import GaussianNB"
   ]
  },
  {
   "cell_type": "markdown",
   "metadata": {},
   "source": [
    "#### below code  initiate LogisticRegression model "
   ]
  },
  {
   "cell_type": "code",
   "execution_count": 214,
   "metadata": {},
   "outputs": [],
   "source": [
    "\n",
    "model=LogisticRegression()\n",
    "\n",
    "model_2 = GaussianNB()\n",
    "\n",
    "names =[column for column in  train.columns if column!='BOT_JOB']\n"
   ]
  },
  {
   "cell_type": "markdown",
   "metadata": {},
   "source": [
    "#### Drop any nan values or missing values from dataFrame \n",
    "\n",
    "### below code elimantes any nan values in dataFrame\n",
    "\n",
    "### all these functions are from sklearn library"
   ]
  },
  {
   "cell_type": "code",
   "execution_count": 215,
   "metadata": {
    "collapsed": true
   },
   "outputs": [],
   "source": [
    "\n",
    "train=train.dropna()\n",
    "\n",
    "test = test.dropna()\n"
   ]
  },
  {
   "cell_type": "code",
   "execution_count": 216,
   "metadata": {
    "collapsed": true
   },
   "outputs": [],
   "source": [
    "def validate_nans():\n",
    "    \n",
    "    new_df = train.isnull()\n",
    "    for b in new_df:\n",
    "        i=0\n",
    "        for a in new_df[b]:\n",
    "            if a==True:\n",
    "                print \"gode save england\",i,new_df[b].iloc[i],spare[b].iloc[i]\n",
    "                pass\n",
    "            i+=1\n",
    "        "
   ]
  },
  {
   "cell_type": "code",
   "execution_count": 217,
   "metadata": {
    "collapsed": true
   },
   "outputs": [],
   "source": [
    "validate_nans()"
   ]
  },
  {
   "cell_type": "markdown",
   "metadata": {},
   "source": [
    "### I now train the model with training data"
   ]
  },
  {
   "cell_type": "code",
   "execution_count": 218,
   "metadata": {},
   "outputs": [
    {
     "name": "stdout",
     "output_type": "stream",
     "text": [
      "61\n",
      "[u'balance60', u'balance59', u'balance58', u'balance57', u'balance56', u'balance55', u'balance54', u'balance53', u'balance52', u'balance51', u'balance50', u'balance49', u'balance48', u'balance47', u'balance46', u'balance45', u'balance44', u'balance43', u'balance42', u'balance41', u'balance40', u'balance39', u'balance38', u'balance37', u'balance36', u'balance35', u'balance34', u'balance33', u'balance32', u'balance31', u'balance30', u'balance29', u'balance28', u'balance27', u'balance26', u'balance25', u'balance24', u'balance23', u'balance22', u'balance21', u'balance20', u'balance19', u'balance18', u'balance17', u'balance16', u'balance15', u'balance14', u'balance13', u'balance12', u'balance11', u'balance10', u'balance9', u'balance8', u'balance7', u'balance6', u'balance5', u'balance4', u'balance3', u'balance2', u'balance1', u'SAVING_BALANCE']\n"
     ]
    },
    {
     "data": {
      "text/plain": [
       "GaussianNB(priors=None)"
      ]
     },
     "execution_count": 218,
     "metadata": {},
     "output_type": "execute_result"
    }
   ],
   "source": [
    "print len(names)\n",
    "\n",
    "print names\n",
    "model.fit(train[names],train['BOT_JOB'])\n",
    "\n",
    "model_2.fit(train[names],train['BOT_JOB'])"
   ]
  },
  {
   "cell_type": "code",
   "execution_count": 219,
   "metadata": {},
   "outputs": [],
   "source": [
    "results=model.predict(test[names])\n",
    "results_2 = model_2.predict(test[names])"
   ]
  },
  {
   "cell_type": "code",
   "execution_count": 220,
   "metadata": {},
   "outputs": [],
   "source": [
    "verify=test['BOT_JOB']"
   ]
  },
  {
   "cell_type": "markdown",
   "metadata": {},
   "source": [
    "### I wrote a my own accuracy function "
   ]
  },
  {
   "cell_type": "code",
   "execution_count": 221,
   "metadata": {},
   "outputs": [
    {
     "name": "stdout",
     "output_type": "stream",
     "text": [
      "ACCURACY OF MY CURRENT MODEL IS: 85.3327041057\n"
     ]
    }
   ],
   "source": [
    "def model_accuracy(results,verify):\n",
    "    \n",
    "#     global results,verify\n",
    "    \n",
    "    assert len(verify)==len(results)\n",
    "    \n",
    "    ans = list(results)\n",
    "    \n",
    "    verify = list(verify)\n",
    "    \n",
    "    s=[1 if verify[j]==ans[j] else 0 for j in xrange(len(verify))]\n",
    "    \n",
    "    return ((sum(s)+0.0)/len(verify))*100\n",
    "\n",
    "print \"accuracy of my current model is:\".upper(),model_accuracy(results_2,verify)\n",
    "    "
   ]
  },
  {
   "cell_type": "markdown",
   "metadata": {},
   "source": [
    "### Lets serialise the data "
   ]
  },
  {
   "cell_type": "code",
   "execution_count": 222,
   "metadata": {
    "collapsed": true
   },
   "outputs": [],
   "source": [
    "import pickle\n",
    "\n",
    "path= \"C:/Users/papasani.mohan/Pictures/TopCoder/Debitron Challenge/Scripts/Serialised Models\""
   ]
  },
  {
   "cell_type": "code",
   "execution_count": 223,
   "metadata": {
    "collapsed": true
   },
   "outputs": [],
   "source": [
    "pickle.dump(model,open(path+\"/LogRmodel_1\",\"wb\"))\n"
   ]
  },
  {
   "cell_type": "markdown",
   "metadata": {},
   "source": [
    "### You could find serialised model for production in the  'Serialised Models' folder "
   ]
  },
  {
   "cell_type": "markdown",
   "metadata": {},
   "source": [
    "### It's also  simple to load model from pickle library "
   ]
  },
  {
   "cell_type": "code",
   "execution_count": 224,
   "metadata": {
    "collapsed": true
   },
   "outputs": [],
   "source": [
    "ml=pickle.load(open(path+\"/LogRmodel_1\"))\n"
   ]
  },
  {
   "cell_type": "code",
   "execution_count": 225,
   "metadata": {},
   "outputs": [
    {
     "data": {
      "text/plain": [
       "array([ 1.,  1.,  1., ...,  1.,  1.,  1.])"
      ]
     },
     "execution_count": 225,
     "metadata": {},
     "output_type": "execute_result"
    }
   ],
   "source": [
    "ml.predict(test[names])"
   ]
  },
  {
   "cell_type": "markdown",
   "metadata": {},
   "source": [
    "### Model_2  ...incomplete "
   ]
  },
  {
   "cell_type": "markdown",
   "metadata": {
    "collapsed": true
   },
   "source": [
    "#### _I am going to make some assumptions about the bank and customer for this model_\n",
    "\n",
    "###### _first : customer is only going to take money from his account not any others during the 60 days ...ex: - bank_\n",
    "\n",
    "###### second : he is going to withdraw   his money all at once from his account every day \n",
    "\n",
    "###### third : that he is going to withdraw at the same time .\n",
    "\n",
    "##### Above assumtions are requirement to make below model to work \n",
    "\n"
   ]
  },
  {
   "cell_type": "markdown",
   "metadata": {
    "collapsed": true
   },
   "source": [
    "## Model Description\n",
    "\n",
    "#### _calculate withdraw amounts from his bank account every day for last 60 days_\n",
    "\n",
    "#### then predict that amount for BBD day.\n",
    "\n",
    "### we are going to use that predicted  amount and account balance on bbd to assign priority for each person \n"
   ]
  },
  {
   "cell_type": "code",
   "execution_count": 109,
   "metadata": {},
   "outputs": [
    {
     "data": {
      "text/html": [
       "<div>\n",
       "<style>\n",
       "    .dataframe thead tr:only-child th {\n",
       "        text-align: right;\n",
       "    }\n",
       "\n",
       "    .dataframe thead th {\n",
       "        text-align: left;\n",
       "    }\n",
       "\n",
       "    .dataframe tbody tr th {\n",
       "        vertical-align: top;\n",
       "    }\n",
       "</style>\n",
       "<table border=\"1\" class=\"dataframe\">\n",
       "  <thead>\n",
       "    <tr style=\"text-align: right;\">\n",
       "      <th></th>\n",
       "      <th>PRODUCT_ID</th>\n",
       "      <th>AMOUNT_DUE</th>\n",
       "      <th>SAVING_ACCOUNT</th>\n",
       "      <th>CLIENT_ID</th>\n",
       "      <th>BOT_JOB</th>\n",
       "      <th>DATE</th>\n",
       "      <th>DAYS_DUE</th>\n",
       "      <th>CREDIT_BALANCE</th>\n",
       "      <th>SAVING_BALANCE</th>\n",
       "      <th>PRODUCT_DESCRIPTION</th>\n",
       "      <th>...</th>\n",
       "      <th>balance51</th>\n",
       "      <th>balance52</th>\n",
       "      <th>balance53</th>\n",
       "      <th>balance54</th>\n",
       "      <th>balance55</th>\n",
       "      <th>balance56</th>\n",
       "      <th>balance57</th>\n",
       "      <th>balance58</th>\n",
       "      <th>balance59</th>\n",
       "      <th>balance60</th>\n",
       "    </tr>\n",
       "  </thead>\n",
       "  <tbody>\n",
       "    <tr>\n",
       "      <th>0</th>\n",
       "      <td>4.991939e+07</td>\n",
       "      <td>1.019017e+05</td>\n",
       "      <td>5623831</td>\n",
       "      <td>349647.089431</td>\n",
       "      <td>1</td>\n",
       "      <td>43018</td>\n",
       "      <td>5</td>\n",
       "      <td>4.499204e+05</td>\n",
       "      <td>7.471732e+05</td>\n",
       "      <td>REESTRUC. IT. VDO. TASA FIJA</td>\n",
       "      <td>...</td>\n",
       "      <td>-1161221.0</td>\n",
       "      <td>-1037937.0</td>\n",
       "      <td>308179.0</td>\n",
       "      <td>287610.0</td>\n",
       "      <td>-518425.0</td>\n",
       "      <td>-1095370.0</td>\n",
       "      <td>1039822.0</td>\n",
       "      <td>304792.0</td>\n",
       "      <td>278647.0</td>\n",
       "      <td>1412020.0</td>\n",
       "    </tr>\n",
       "    <tr>\n",
       "      <th>1</th>\n",
       "      <td>1.552915e+07</td>\n",
       "      <td>1.743066e+06</td>\n",
       "      <td>0-0089568-2</td>\n",
       "      <td>425392.439024</td>\n",
       "      <td>0</td>\n",
       "      <td>42958</td>\n",
       "      <td>44</td>\n",
       "      <td>1.684754e+07</td>\n",
       "      <td>1.883251e+06</td>\n",
       "      <td>REESTRUC. IT. VDO. TASA FIJA</td>\n",
       "      <td>...</td>\n",
       "      <td>1033862.0</td>\n",
       "      <td>235346.0</td>\n",
       "      <td>-1451180.0</td>\n",
       "      <td>46820.0</td>\n",
       "      <td>-419336.0</td>\n",
       "      <td>-38204.0</td>\n",
       "      <td>-1230240.0</td>\n",
       "      <td>1267150.0</td>\n",
       "      <td>1180955.0</td>\n",
       "      <td>-624761.0</td>\n",
       "    </tr>\n",
       "    <tr>\n",
       "      <th>2</th>\n",
       "      <td>5.014717e+08</td>\n",
       "      <td>1.389400e+05</td>\n",
       "      <td>0-0141975-3</td>\n",
       "      <td>583469.642276</td>\n",
       "      <td>0</td>\n",
       "      <td>42972</td>\n",
       "      <td>10</td>\n",
       "      <td>4.162013e+06</td>\n",
       "      <td>4.453994e+05</td>\n",
       "      <td>CREDIAGIL</td>\n",
       "      <td>...</td>\n",
       "      <td>-615975.0</td>\n",
       "      <td>-716836.0</td>\n",
       "      <td>1174061.0</td>\n",
       "      <td>411650.0</td>\n",
       "      <td>-763612.0</td>\n",
       "      <td>470047.0</td>\n",
       "      <td>-205796.0</td>\n",
       "      <td>-76068.0</td>\n",
       "      <td>744420.0</td>\n",
       "      <td>1234591.0</td>\n",
       "    </tr>\n",
       "    <tr>\n",
       "      <th>3</th>\n",
       "      <td>6.471615e+07</td>\n",
       "      <td>1.248517e+05</td>\n",
       "      <td>0-0151651-8</td>\n",
       "      <td>741712.032520</td>\n",
       "      <td>0</td>\n",
       "      <td>42992</td>\n",
       "      <td>11</td>\n",
       "      <td>3.611734e+06</td>\n",
       "      <td>3.040092e+05</td>\n",
       "      <td>REESTRUC. IT. VDO. TASA FIJA</td>\n",
       "      <td>...</td>\n",
       "      <td>-1230425.0</td>\n",
       "      <td>-45796.0</td>\n",
       "      <td>-226799.0</td>\n",
       "      <td>-193076.0</td>\n",
       "      <td>-900839.0</td>\n",
       "      <td>961116.0</td>\n",
       "      <td>1179674.0</td>\n",
       "      <td>475245.0</td>\n",
       "      <td>-1123570.0</td>\n",
       "      <td>-1052933.0</td>\n",
       "    </tr>\n",
       "    <tr>\n",
       "      <th>4</th>\n",
       "      <td>6.496007e+07</td>\n",
       "      <td>3.893303e+04</td>\n",
       "      <td>0-0151711-5</td>\n",
       "      <td>109860.260163</td>\n",
       "      <td>1</td>\n",
       "      <td>43007</td>\n",
       "      <td>27</td>\n",
       "      <td>4.633981e+06</td>\n",
       "      <td>1.730275e+05</td>\n",
       "      <td>COMPRA CARTERA L INVERSION</td>\n",
       "      <td>...</td>\n",
       "      <td>934280.0</td>\n",
       "      <td>-1002239.0</td>\n",
       "      <td>-1105649.0</td>\n",
       "      <td>472895.0</td>\n",
       "      <td>505495.0</td>\n",
       "      <td>1143718.0</td>\n",
       "      <td>-1105477.0</td>\n",
       "      <td>558750.0</td>\n",
       "      <td>-755117.0</td>\n",
       "      <td>1181246.0</td>\n",
       "    </tr>\n",
       "  </tbody>\n",
       "</table>\n",
       "<p>5 rows × 75 columns</p>\n",
       "</div>"
      ],
      "text/plain": [
       "     PRODUCT_ID    AMOUNT_DUE SAVING_ACCOUNT      CLIENT_ID  BOT_JOB   DATE  \\\n",
       "0  4.991939e+07  1.019017e+05        5623831  349647.089431        1  43018   \n",
       "1  1.552915e+07  1.743066e+06    0-0089568-2  425392.439024        0  42958   \n",
       "2  5.014717e+08  1.389400e+05    0-0141975-3  583469.642276        0  42972   \n",
       "3  6.471615e+07  1.248517e+05    0-0151651-8  741712.032520        0  42992   \n",
       "4  6.496007e+07  3.893303e+04    0-0151711-5  109860.260163        1  43007   \n",
       "\n",
       "   DAYS_DUE  CREDIT_BALANCE  SAVING_BALANCE           PRODUCT_DESCRIPTION  \\\n",
       "0         5    4.499204e+05    7.471732e+05  REESTRUC. IT. VDO. TASA FIJA   \n",
       "1        44    1.684754e+07    1.883251e+06  REESTRUC. IT. VDO. TASA FIJA   \n",
       "2        10    4.162013e+06    4.453994e+05                     CREDIAGIL   \n",
       "3        11    3.611734e+06    3.040092e+05  REESTRUC. IT. VDO. TASA FIJA   \n",
       "4        27    4.633981e+06    1.730275e+05    COMPRA CARTERA L INVERSION   \n",
       "\n",
       "     ...      balance51  balance52  balance53  balance54  balance55  \\\n",
       "0    ...     -1161221.0 -1037937.0   308179.0   287610.0  -518425.0   \n",
       "1    ...      1033862.0   235346.0 -1451180.0    46820.0  -419336.0   \n",
       "2    ...      -615975.0  -716836.0  1174061.0   411650.0  -763612.0   \n",
       "3    ...     -1230425.0   -45796.0  -226799.0  -193076.0  -900839.0   \n",
       "4    ...       934280.0 -1002239.0 -1105649.0   472895.0   505495.0   \n",
       "\n",
       "   balance56  balance57  balance58  balance59  balance60  \n",
       "0 -1095370.0  1039822.0   304792.0   278647.0  1412020.0  \n",
       "1   -38204.0 -1230240.0  1267150.0  1180955.0  -624761.0  \n",
       "2   470047.0  -205796.0   -76068.0   744420.0  1234591.0  \n",
       "3   961116.0  1179674.0   475245.0 -1123570.0 -1052933.0  \n",
       "4  1143718.0 -1105477.0   558750.0  -755117.0  1181246.0  \n",
       "\n",
       "[5 rows x 75 columns]"
      ]
     },
     "metadata": {},
     "output_type": "display_data"
    }
   ],
   "source": [
    "display(file_.head())"
   ]
  },
  {
   "cell_type": "code",
   "execution_count": 110,
   "metadata": {
    "collapsed": true
   },
   "outputs": [],
   "source": [
    "pred_var = pd.DataFrame(file_['SAVING_BALANCE'])"
   ]
  },
  {
   "cell_type": "code",
   "execution_count": 111,
   "metadata": {
    "collapsed": true
   },
   "outputs": [],
   "source": [
    "bank_df = pd.DataFrame()"
   ]
  },
  {
   "cell_type": "code",
   "execution_count": 112,
   "metadata": {
    "collapsed": true
   },
   "outputs": [],
   "source": [
    "index = 1\n",
    "\n",
    "for day in xrange(60,1,-1):\n",
    "    bank_df['day'+str(index)] = file_['balance'+str(day-1)]-file_['balance'+str(day)] \n",
    "    index+=1\n"
   ]
  },
  {
   "cell_type": "code",
   "execution_count": 113,
   "metadata": {
    "collapsed": true
   },
   "outputs": [],
   "source": [
    "bank_df['day60']=file_['SAVING_BALANCE']-file_['balance1']"
   ]
  },
  {
   "cell_type": "code",
   "execution_count": 115,
   "metadata": {
    "collapsed": true
   },
   "outputs": [],
   "source": [
    "bank_df=bank_df.dropna()"
   ]
  },
  {
   "cell_type": "code",
   "execution_count": 116,
   "metadata": {
    "collapsed": true
   },
   "outputs": [],
   "source": [
    "from sklearn.linear_model import LinearRegression\n"
   ]
  },
  {
   "cell_type": "code",
   "execution_count": 117,
   "metadata": {
    "collapsed": true
   },
   "outputs": [],
   "source": [
    "linear_model=LinearRegression()"
   ]
  },
  {
   "cell_type": "code",
   "execution_count": 118,
   "metadata": {
    "collapsed": true
   },
   "outputs": [],
   "source": [
    "days = ['day'+str(e) for e in xrange(1,60)]"
   ]
  },
  {
   "cell_type": "code",
   "execution_count": 125,
   "metadata": {},
   "outputs": [],
   "source": [
    "bank_df['AMOUNT_DUE']=file_['AMOUNT_DUE']"
   ]
  },
  {
   "cell_type": "code",
   "execution_count": 126,
   "metadata": {
    "collapsed": true
   },
   "outputs": [],
   "source": [
    "train,test=bank_df[:20000],bank_df[20000:]"
   ]
  },
  {
   "cell_type": "code",
   "execution_count": 127,
   "metadata": {},
   "outputs": [
    {
     "data": {
      "text/plain": [
       "LinearRegression(copy_X=True, fit_intercept=True, n_jobs=1, normalize=False)"
      ]
     },
     "execution_count": 127,
     "metadata": {},
     "output_type": "execute_result"
    }
   ],
   "source": [
    "linear_model.fit(train[days],train['day60'])"
   ]
  },
  {
   "cell_type": "code",
   "execution_count": 128,
   "metadata": {},
   "outputs": [
    {
     "name": "stdout",
     "output_type": "stream",
     "text": [
      "[ 1780631.88982576  1175027.66260769  1719948.25935238 ...,\n",
      "  -658033.50852631  1501597.83622637  -187521.27936301]\n"
     ]
    }
   ],
   "source": [
    "results=linear_model.predict(test[days])\n",
    "\n",
    "print results"
   ]
  },
  {
   "cell_type": "code",
   "execution_count": 129,
   "metadata": {
    "collapsed": true
   },
   "outputs": [],
   "source": [
    "def ml_model_accuracy(results,verification):\n",
    "    \n",
    "    assert len(results)==len(verification)\n",
    "    \n",
    "    res = list(results)\n",
    "    \n",
    "    veri = list(verification)\n",
    "    \n",
    "    ree_ = []\n",
    "    count_=0\n",
    "    error = []\n",
    "    import numpy\n",
    "    for a1,a2 in zip(res,veri):\n",
    "        error.append((a1-a2)**2)\n",
    "        if a2!=0:\n",
    "            z = (abs(a1-a2)+0.0)/a2\n",
    "            ree_.append(z) \n",
    "        else:\n",
    "            count_+=1\n",
    "#     print count_,\"count_\"\n",
    "    return sum(ree_)/len(ree_),numpy.mean(error)\n",
    "        \n",
    "    \n"
   ]
  },
  {
   "cell_type": "code",
   "execution_count": 145,
   "metadata": {},
   "outputs": [
    {
     "data": {
      "text/plain": [
       "(0.31806173970189527, 11031226231636.732)"
      ]
     },
     "execution_count": 145,
     "metadata": {},
     "output_type": "execute_result"
    }
   ],
   "source": [
    "ml_model_accuracy(results,test['day60'])"
   ]
  },
  {
   "cell_type": "code",
   "execution_count": 143,
   "metadata": {},
   "outputs": [
    {
     "data": {
      "text/html": [
       "<div>\n",
       "<style>\n",
       "    .dataframe thead tr:only-child th {\n",
       "        text-align: right;\n",
       "    }\n",
       "\n",
       "    .dataframe thead th {\n",
       "        text-align: left;\n",
       "    }\n",
       "\n",
       "    .dataframe tbody tr th {\n",
       "        vertical-align: top;\n",
       "    }\n",
       "</style>\n",
       "<table border=\"1\" class=\"dataframe\">\n",
       "  <thead>\n",
       "    <tr style=\"text-align: right;\">\n",
       "      <th></th>\n",
       "      <th>day1</th>\n",
       "      <th>day2</th>\n",
       "      <th>day3</th>\n",
       "      <th>day4</th>\n",
       "      <th>day5</th>\n",
       "      <th>day6</th>\n",
       "      <th>day7</th>\n",
       "      <th>day8</th>\n",
       "      <th>day9</th>\n",
       "      <th>day10</th>\n",
       "      <th>...</th>\n",
       "      <th>day52</th>\n",
       "      <th>day53</th>\n",
       "      <th>day54</th>\n",
       "      <th>day55</th>\n",
       "      <th>day56</th>\n",
       "      <th>day57</th>\n",
       "      <th>day58</th>\n",
       "      <th>day59</th>\n",
       "      <th>day60</th>\n",
       "      <th>AMOUNT_DUE</th>\n",
       "    </tr>\n",
       "  </thead>\n",
       "  <tbody>\n",
       "    <tr>\n",
       "      <th>0</th>\n",
       "      <td>-1133373.0</td>\n",
       "      <td>26145.0</td>\n",
       "      <td>735030.0</td>\n",
       "      <td>-2135192.0</td>\n",
       "      <td>576945.0</td>\n",
       "      <td>806035.0</td>\n",
       "      <td>20569.0</td>\n",
       "      <td>-1346116.0</td>\n",
       "      <td>-123284.0</td>\n",
       "      <td>2041178.0</td>\n",
       "      <td>...</td>\n",
       "      <td>2250800.0</td>\n",
       "      <td>-125549.0</td>\n",
       "      <td>-1895272.0</td>\n",
       "      <td>599768.0</td>\n",
       "      <td>1549013.0</td>\n",
       "      <td>246688.0</td>\n",
       "      <td>-1749275.0</td>\n",
       "      <td>146308.0</td>\n",
       "      <td>9.462532e+05</td>\n",
       "      <td>1.019017e+05</td>\n",
       "    </tr>\n",
       "    <tr>\n",
       "      <th>1</th>\n",
       "      <td>1805716.0</td>\n",
       "      <td>86195.0</td>\n",
       "      <td>-2497390.0</td>\n",
       "      <td>1192036.0</td>\n",
       "      <td>-381132.0</td>\n",
       "      <td>466156.0</td>\n",
       "      <td>-1498000.0</td>\n",
       "      <td>1686526.0</td>\n",
       "      <td>798516.0</td>\n",
       "      <td>-182297.0</td>\n",
       "      <td>...</td>\n",
       "      <td>94448.0</td>\n",
       "      <td>-87301.0</td>\n",
       "      <td>-278294.0</td>\n",
       "      <td>389116.0</td>\n",
       "      <td>-1993933.0</td>\n",
       "      <td>1726972.0</td>\n",
       "      <td>-56025.0</td>\n",
       "      <td>-814591.0</td>\n",
       "      <td>1.898289e+06</td>\n",
       "      <td>1.743066e+06</td>\n",
       "    </tr>\n",
       "    <tr>\n",
       "      <th>2</th>\n",
       "      <td>-490171.0</td>\n",
       "      <td>-820488.0</td>\n",
       "      <td>-129728.0</td>\n",
       "      <td>675843.0</td>\n",
       "      <td>-1233659.0</td>\n",
       "      <td>1175262.0</td>\n",
       "      <td>762411.0</td>\n",
       "      <td>-1890897.0</td>\n",
       "      <td>100861.0</td>\n",
       "      <td>903863.0</td>\n",
       "      <td>...</td>\n",
       "      <td>-533519.0</td>\n",
       "      <td>196602.0</td>\n",
       "      <td>-1728962.0</td>\n",
       "      <td>-551595.0</td>\n",
       "      <td>2873031.0</td>\n",
       "      <td>-515577.0</td>\n",
       "      <td>-448483.0</td>\n",
       "      <td>140469.0</td>\n",
       "      <td>-1.558956e+05</td>\n",
       "      <td>1.389400e+05</td>\n",
       "    </tr>\n",
       "    <tr>\n",
       "      <th>3</th>\n",
       "      <td>-70637.0</td>\n",
       "      <td>1598815.0</td>\n",
       "      <td>704429.0</td>\n",
       "      <td>-218558.0</td>\n",
       "      <td>-1861955.0</td>\n",
       "      <td>707763.0</td>\n",
       "      <td>-33723.0</td>\n",
       "      <td>181003.0</td>\n",
       "      <td>-1184629.0</td>\n",
       "      <td>93934.0</td>\n",
       "      <td>...</td>\n",
       "      <td>1566509.0</td>\n",
       "      <td>-46769.0</td>\n",
       "      <td>-631510.0</td>\n",
       "      <td>-1079396.0</td>\n",
       "      <td>1756527.0</td>\n",
       "      <td>-304439.0</td>\n",
       "      <td>-126413.0</td>\n",
       "      <td>-38829.0</td>\n",
       "      <td>-3.201768e+05</td>\n",
       "      <td>1.248517e+05</td>\n",
       "    </tr>\n",
       "    <tr>\n",
       "      <th>4</th>\n",
       "      <td>-1936363.0</td>\n",
       "      <td>1313867.0</td>\n",
       "      <td>-1664227.0</td>\n",
       "      <td>2249195.0</td>\n",
       "      <td>-638223.0</td>\n",
       "      <td>-32600.0</td>\n",
       "      <td>-1578544.0</td>\n",
       "      <td>103410.0</td>\n",
       "      <td>1936519.0</td>\n",
       "      <td>190973.0</td>\n",
       "      <td>...</td>\n",
       "      <td>-511776.0</td>\n",
       "      <td>288158.0</td>\n",
       "      <td>-60778.0</td>\n",
       "      <td>445844.0</td>\n",
       "      <td>-2440201.0</td>\n",
       "      <td>1354099.0</td>\n",
       "      <td>595820.0</td>\n",
       "      <td>529848.0</td>\n",
       "      <td>-8.227565e+05</td>\n",
       "      <td>3.893303e+04</td>\n",
       "    </tr>\n",
       "  </tbody>\n",
       "</table>\n",
       "<p>5 rows × 61 columns</p>\n",
       "</div>"
      ],
      "text/plain": [
       "        day1       day2       day3       day4       day5       day6  \\\n",
       "0 -1133373.0    26145.0   735030.0 -2135192.0   576945.0   806035.0   \n",
       "1  1805716.0    86195.0 -2497390.0  1192036.0  -381132.0   466156.0   \n",
       "2  -490171.0  -820488.0  -129728.0   675843.0 -1233659.0  1175262.0   \n",
       "3   -70637.0  1598815.0   704429.0  -218558.0 -1861955.0   707763.0   \n",
       "4 -1936363.0  1313867.0 -1664227.0  2249195.0  -638223.0   -32600.0   \n",
       "\n",
       "        day7       day8       day9      day10      ...           day52  \\\n",
       "0    20569.0 -1346116.0  -123284.0  2041178.0      ...       2250800.0   \n",
       "1 -1498000.0  1686526.0   798516.0  -182297.0      ...         94448.0   \n",
       "2   762411.0 -1890897.0   100861.0   903863.0      ...       -533519.0   \n",
       "3   -33723.0   181003.0 -1184629.0    93934.0      ...       1566509.0   \n",
       "4 -1578544.0   103410.0  1936519.0   190973.0      ...       -511776.0   \n",
       "\n",
       "      day53      day54      day55      day56      day57      day58     day59  \\\n",
       "0 -125549.0 -1895272.0   599768.0  1549013.0   246688.0 -1749275.0  146308.0   \n",
       "1  -87301.0  -278294.0   389116.0 -1993933.0  1726972.0   -56025.0 -814591.0   \n",
       "2  196602.0 -1728962.0  -551595.0  2873031.0  -515577.0  -448483.0  140469.0   \n",
       "3  -46769.0  -631510.0 -1079396.0  1756527.0  -304439.0  -126413.0  -38829.0   \n",
       "4  288158.0   -60778.0   445844.0 -2440201.0  1354099.0   595820.0  529848.0   \n",
       "\n",
       "          day60    AMOUNT_DUE  \n",
       "0  9.462532e+05  1.019017e+05  \n",
       "1  1.898289e+06  1.743066e+06  \n",
       "2 -1.558956e+05  1.389400e+05  \n",
       "3 -3.201768e+05  1.248517e+05  \n",
       "4 -8.227565e+05  3.893303e+04  \n",
       "\n",
       "[5 rows x 61 columns]"
      ]
     },
     "execution_count": 143,
     "metadata": {},
     "output_type": "execute_result"
    }
   ],
   "source": [
    "bank_df.head(5)"
   ]
  },
  {
   "cell_type": "code",
   "execution_count": 156,
   "metadata": {
    "collapsed": true
   },
   "outputs": [],
   "source": [
    "bank_df['SAVING_BALANCE']=file_['SAVING_BALANCE']\n",
    "\n",
    "# bank_df['AMOUNT_DUE']=file_['BOT_JOB']\n",
    "\n",
    "bank_df['BOT_JOB']=file_['BOT_JOB']"
   ]
  },
  {
   "cell_type": "code",
   "execution_count": 157,
   "metadata": {},
   "outputs": [
    {
     "data": {
      "text/html": [
       "<div>\n",
       "<style>\n",
       "    .dataframe thead tr:only-child th {\n",
       "        text-align: right;\n",
       "    }\n",
       "\n",
       "    .dataframe thead th {\n",
       "        text-align: left;\n",
       "    }\n",
       "\n",
       "    .dataframe tbody tr th {\n",
       "        vertical-align: top;\n",
       "    }\n",
       "</style>\n",
       "<table border=\"1\" class=\"dataframe\">\n",
       "  <thead>\n",
       "    <tr style=\"text-align: right;\">\n",
       "      <th></th>\n",
       "      <th>day1</th>\n",
       "      <th>day2</th>\n",
       "      <th>day3</th>\n",
       "      <th>day4</th>\n",
       "      <th>day5</th>\n",
       "      <th>day6</th>\n",
       "      <th>day7</th>\n",
       "      <th>day8</th>\n",
       "      <th>day9</th>\n",
       "      <th>day10</th>\n",
       "      <th>...</th>\n",
       "      <th>day54</th>\n",
       "      <th>day55</th>\n",
       "      <th>day56</th>\n",
       "      <th>day57</th>\n",
       "      <th>day58</th>\n",
       "      <th>day59</th>\n",
       "      <th>day60</th>\n",
       "      <th>AMOUNT_DUE</th>\n",
       "      <th>SAVING_BALANCE</th>\n",
       "      <th>BOT_JOB</th>\n",
       "    </tr>\n",
       "  </thead>\n",
       "  <tbody>\n",
       "    <tr>\n",
       "      <th>0</th>\n",
       "      <td>-1133373.0</td>\n",
       "      <td>26145.0</td>\n",
       "      <td>735030.0</td>\n",
       "      <td>-2135192.0</td>\n",
       "      <td>576945.0</td>\n",
       "      <td>806035.0</td>\n",
       "      <td>20569.0</td>\n",
       "      <td>-1346116.0</td>\n",
       "      <td>-123284.0</td>\n",
       "      <td>2041178.0</td>\n",
       "      <td>...</td>\n",
       "      <td>-1895272.0</td>\n",
       "      <td>599768.0</td>\n",
       "      <td>1549013.0</td>\n",
       "      <td>246688.0</td>\n",
       "      <td>-1749275.0</td>\n",
       "      <td>146308.0</td>\n",
       "      <td>9.462532e+05</td>\n",
       "      <td>1.019017e+05</td>\n",
       "      <td>7.471732e+05</td>\n",
       "      <td>1</td>\n",
       "    </tr>\n",
       "    <tr>\n",
       "      <th>1</th>\n",
       "      <td>1805716.0</td>\n",
       "      <td>86195.0</td>\n",
       "      <td>-2497390.0</td>\n",
       "      <td>1192036.0</td>\n",
       "      <td>-381132.0</td>\n",
       "      <td>466156.0</td>\n",
       "      <td>-1498000.0</td>\n",
       "      <td>1686526.0</td>\n",
       "      <td>798516.0</td>\n",
       "      <td>-182297.0</td>\n",
       "      <td>...</td>\n",
       "      <td>-278294.0</td>\n",
       "      <td>389116.0</td>\n",
       "      <td>-1993933.0</td>\n",
       "      <td>1726972.0</td>\n",
       "      <td>-56025.0</td>\n",
       "      <td>-814591.0</td>\n",
       "      <td>1.898289e+06</td>\n",
       "      <td>1.743066e+06</td>\n",
       "      <td>1.883251e+06</td>\n",
       "      <td>0</td>\n",
       "    </tr>\n",
       "    <tr>\n",
       "      <th>2</th>\n",
       "      <td>-490171.0</td>\n",
       "      <td>-820488.0</td>\n",
       "      <td>-129728.0</td>\n",
       "      <td>675843.0</td>\n",
       "      <td>-1233659.0</td>\n",
       "      <td>1175262.0</td>\n",
       "      <td>762411.0</td>\n",
       "      <td>-1890897.0</td>\n",
       "      <td>100861.0</td>\n",
       "      <td>903863.0</td>\n",
       "      <td>...</td>\n",
       "      <td>-1728962.0</td>\n",
       "      <td>-551595.0</td>\n",
       "      <td>2873031.0</td>\n",
       "      <td>-515577.0</td>\n",
       "      <td>-448483.0</td>\n",
       "      <td>140469.0</td>\n",
       "      <td>-1.558956e+05</td>\n",
       "      <td>1.389400e+05</td>\n",
       "      <td>4.453994e+05</td>\n",
       "      <td>0</td>\n",
       "    </tr>\n",
       "    <tr>\n",
       "      <th>3</th>\n",
       "      <td>-70637.0</td>\n",
       "      <td>1598815.0</td>\n",
       "      <td>704429.0</td>\n",
       "      <td>-218558.0</td>\n",
       "      <td>-1861955.0</td>\n",
       "      <td>707763.0</td>\n",
       "      <td>-33723.0</td>\n",
       "      <td>181003.0</td>\n",
       "      <td>-1184629.0</td>\n",
       "      <td>93934.0</td>\n",
       "      <td>...</td>\n",
       "      <td>-631510.0</td>\n",
       "      <td>-1079396.0</td>\n",
       "      <td>1756527.0</td>\n",
       "      <td>-304439.0</td>\n",
       "      <td>-126413.0</td>\n",
       "      <td>-38829.0</td>\n",
       "      <td>-3.201768e+05</td>\n",
       "      <td>1.248517e+05</td>\n",
       "      <td>3.040092e+05</td>\n",
       "      <td>0</td>\n",
       "    </tr>\n",
       "    <tr>\n",
       "      <th>4</th>\n",
       "      <td>-1936363.0</td>\n",
       "      <td>1313867.0</td>\n",
       "      <td>-1664227.0</td>\n",
       "      <td>2249195.0</td>\n",
       "      <td>-638223.0</td>\n",
       "      <td>-32600.0</td>\n",
       "      <td>-1578544.0</td>\n",
       "      <td>103410.0</td>\n",
       "      <td>1936519.0</td>\n",
       "      <td>190973.0</td>\n",
       "      <td>...</td>\n",
       "      <td>-60778.0</td>\n",
       "      <td>445844.0</td>\n",
       "      <td>-2440201.0</td>\n",
       "      <td>1354099.0</td>\n",
       "      <td>595820.0</td>\n",
       "      <td>529848.0</td>\n",
       "      <td>-8.227565e+05</td>\n",
       "      <td>3.893303e+04</td>\n",
       "      <td>1.730275e+05</td>\n",
       "      <td>1</td>\n",
       "    </tr>\n",
       "  </tbody>\n",
       "</table>\n",
       "<p>5 rows × 63 columns</p>\n",
       "</div>"
      ],
      "text/plain": [
       "        day1       day2       day3       day4       day5       day6  \\\n",
       "0 -1133373.0    26145.0   735030.0 -2135192.0   576945.0   806035.0   \n",
       "1  1805716.0    86195.0 -2497390.0  1192036.0  -381132.0   466156.0   \n",
       "2  -490171.0  -820488.0  -129728.0   675843.0 -1233659.0  1175262.0   \n",
       "3   -70637.0  1598815.0   704429.0  -218558.0 -1861955.0   707763.0   \n",
       "4 -1936363.0  1313867.0 -1664227.0  2249195.0  -638223.0   -32600.0   \n",
       "\n",
       "        day7       day8       day9      day10   ...         day54      day55  \\\n",
       "0    20569.0 -1346116.0  -123284.0  2041178.0   ...    -1895272.0   599768.0   \n",
       "1 -1498000.0  1686526.0   798516.0  -182297.0   ...     -278294.0   389116.0   \n",
       "2   762411.0 -1890897.0   100861.0   903863.0   ...    -1728962.0  -551595.0   \n",
       "3   -33723.0   181003.0 -1184629.0    93934.0   ...     -631510.0 -1079396.0   \n",
       "4 -1578544.0   103410.0  1936519.0   190973.0   ...      -60778.0   445844.0   \n",
       "\n",
       "       day56      day57      day58     day59         day60    AMOUNT_DUE  \\\n",
       "0  1549013.0   246688.0 -1749275.0  146308.0  9.462532e+05  1.019017e+05   \n",
       "1 -1993933.0  1726972.0   -56025.0 -814591.0  1.898289e+06  1.743066e+06   \n",
       "2  2873031.0  -515577.0  -448483.0  140469.0 -1.558956e+05  1.389400e+05   \n",
       "3  1756527.0  -304439.0  -126413.0  -38829.0 -3.201768e+05  1.248517e+05   \n",
       "4 -2440201.0  1354099.0   595820.0  529848.0 -8.227565e+05  3.893303e+04   \n",
       "\n",
       "   SAVING_BALANCE  BOT_JOB  \n",
       "0    7.471732e+05        1  \n",
       "1    1.883251e+06        0  \n",
       "2    4.453994e+05        0  \n",
       "3    3.040092e+05        0  \n",
       "4    1.730275e+05        1  \n",
       "\n",
       "[5 rows x 63 columns]"
      ]
     },
     "execution_count": 157,
     "metadata": {},
     "output_type": "execute_result"
    }
   ],
   "source": [
    "# bank_df.head()"
   ]
  },
  {
   "cell_type": "code",
   "execution_count": 159,
   "metadata": {},
   "outputs": [],
   "source": [
    "bank_df['balance_change']=bank_df['SAVING_BALANCE']+bank_df['day60']\n",
    "\n",
    "# bank_df['']"
   ]
  },
  {
   "cell_type": "code",
   "execution_count": 160,
   "metadata": {},
   "outputs": [
    {
     "data": {
      "text/html": [
       "<div>\n",
       "<style>\n",
       "    .dataframe thead tr:only-child th {\n",
       "        text-align: right;\n",
       "    }\n",
       "\n",
       "    .dataframe thead th {\n",
       "        text-align: left;\n",
       "    }\n",
       "\n",
       "    .dataframe tbody tr th {\n",
       "        vertical-align: top;\n",
       "    }\n",
       "</style>\n",
       "<table border=\"1\" class=\"dataframe\">\n",
       "  <thead>\n",
       "    <tr style=\"text-align: right;\">\n",
       "      <th></th>\n",
       "      <th>day1</th>\n",
       "      <th>day2</th>\n",
       "      <th>day3</th>\n",
       "      <th>day4</th>\n",
       "      <th>day5</th>\n",
       "      <th>day6</th>\n",
       "      <th>day7</th>\n",
       "      <th>day8</th>\n",
       "      <th>day9</th>\n",
       "      <th>day10</th>\n",
       "      <th>...</th>\n",
       "      <th>day55</th>\n",
       "      <th>day56</th>\n",
       "      <th>day57</th>\n",
       "      <th>day58</th>\n",
       "      <th>day59</th>\n",
       "      <th>day60</th>\n",
       "      <th>AMOUNT_DUE</th>\n",
       "      <th>SAVING_BALANCE</th>\n",
       "      <th>BOT_JOB</th>\n",
       "      <th>balance_change</th>\n",
       "    </tr>\n",
       "  </thead>\n",
       "  <tbody>\n",
       "    <tr>\n",
       "      <th>0</th>\n",
       "      <td>-1133373.0</td>\n",
       "      <td>26145.0</td>\n",
       "      <td>735030.0</td>\n",
       "      <td>-2135192.0</td>\n",
       "      <td>576945.0</td>\n",
       "      <td>806035.0</td>\n",
       "      <td>20569.0</td>\n",
       "      <td>-1346116.0</td>\n",
       "      <td>-123284.0</td>\n",
       "      <td>2041178.0</td>\n",
       "      <td>...</td>\n",
       "      <td>599768.0</td>\n",
       "      <td>1549013.0</td>\n",
       "      <td>246688.0</td>\n",
       "      <td>-1749275.0</td>\n",
       "      <td>146308.0</td>\n",
       "      <td>9.462532e+05</td>\n",
       "      <td>1.019017e+05</td>\n",
       "      <td>7.471732e+05</td>\n",
       "      <td>1</td>\n",
       "      <td>1.693426e+06</td>\n",
       "    </tr>\n",
       "    <tr>\n",
       "      <th>1</th>\n",
       "      <td>1805716.0</td>\n",
       "      <td>86195.0</td>\n",
       "      <td>-2497390.0</td>\n",
       "      <td>1192036.0</td>\n",
       "      <td>-381132.0</td>\n",
       "      <td>466156.0</td>\n",
       "      <td>-1498000.0</td>\n",
       "      <td>1686526.0</td>\n",
       "      <td>798516.0</td>\n",
       "      <td>-182297.0</td>\n",
       "      <td>...</td>\n",
       "      <td>389116.0</td>\n",
       "      <td>-1993933.0</td>\n",
       "      <td>1726972.0</td>\n",
       "      <td>-56025.0</td>\n",
       "      <td>-814591.0</td>\n",
       "      <td>1.898289e+06</td>\n",
       "      <td>1.743066e+06</td>\n",
       "      <td>1.883251e+06</td>\n",
       "      <td>0</td>\n",
       "      <td>3.781539e+06</td>\n",
       "    </tr>\n",
       "    <tr>\n",
       "      <th>2</th>\n",
       "      <td>-490171.0</td>\n",
       "      <td>-820488.0</td>\n",
       "      <td>-129728.0</td>\n",
       "      <td>675843.0</td>\n",
       "      <td>-1233659.0</td>\n",
       "      <td>1175262.0</td>\n",
       "      <td>762411.0</td>\n",
       "      <td>-1890897.0</td>\n",
       "      <td>100861.0</td>\n",
       "      <td>903863.0</td>\n",
       "      <td>...</td>\n",
       "      <td>-551595.0</td>\n",
       "      <td>2873031.0</td>\n",
       "      <td>-515577.0</td>\n",
       "      <td>-448483.0</td>\n",
       "      <td>140469.0</td>\n",
       "      <td>-1.558956e+05</td>\n",
       "      <td>1.389400e+05</td>\n",
       "      <td>4.453994e+05</td>\n",
       "      <td>0</td>\n",
       "      <td>2.895039e+05</td>\n",
       "    </tr>\n",
       "    <tr>\n",
       "      <th>3</th>\n",
       "      <td>-70637.0</td>\n",
       "      <td>1598815.0</td>\n",
       "      <td>704429.0</td>\n",
       "      <td>-218558.0</td>\n",
       "      <td>-1861955.0</td>\n",
       "      <td>707763.0</td>\n",
       "      <td>-33723.0</td>\n",
       "      <td>181003.0</td>\n",
       "      <td>-1184629.0</td>\n",
       "      <td>93934.0</td>\n",
       "      <td>...</td>\n",
       "      <td>-1079396.0</td>\n",
       "      <td>1756527.0</td>\n",
       "      <td>-304439.0</td>\n",
       "      <td>-126413.0</td>\n",
       "      <td>-38829.0</td>\n",
       "      <td>-3.201768e+05</td>\n",
       "      <td>1.248517e+05</td>\n",
       "      <td>3.040092e+05</td>\n",
       "      <td>0</td>\n",
       "      <td>-1.616757e+04</td>\n",
       "    </tr>\n",
       "    <tr>\n",
       "      <th>4</th>\n",
       "      <td>-1936363.0</td>\n",
       "      <td>1313867.0</td>\n",
       "      <td>-1664227.0</td>\n",
       "      <td>2249195.0</td>\n",
       "      <td>-638223.0</td>\n",
       "      <td>-32600.0</td>\n",
       "      <td>-1578544.0</td>\n",
       "      <td>103410.0</td>\n",
       "      <td>1936519.0</td>\n",
       "      <td>190973.0</td>\n",
       "      <td>...</td>\n",
       "      <td>445844.0</td>\n",
       "      <td>-2440201.0</td>\n",
       "      <td>1354099.0</td>\n",
       "      <td>595820.0</td>\n",
       "      <td>529848.0</td>\n",
       "      <td>-8.227565e+05</td>\n",
       "      <td>3.893303e+04</td>\n",
       "      <td>1.730275e+05</td>\n",
       "      <td>1</td>\n",
       "      <td>-6.497290e+05</td>\n",
       "    </tr>\n",
       "  </tbody>\n",
       "</table>\n",
       "<p>5 rows × 64 columns</p>\n",
       "</div>"
      ],
      "text/plain": [
       "        day1       day2       day3       day4       day5       day6  \\\n",
       "0 -1133373.0    26145.0   735030.0 -2135192.0   576945.0   806035.0   \n",
       "1  1805716.0    86195.0 -2497390.0  1192036.0  -381132.0   466156.0   \n",
       "2  -490171.0  -820488.0  -129728.0   675843.0 -1233659.0  1175262.0   \n",
       "3   -70637.0  1598815.0   704429.0  -218558.0 -1861955.0   707763.0   \n",
       "4 -1936363.0  1313867.0 -1664227.0  2249195.0  -638223.0   -32600.0   \n",
       "\n",
       "        day7       day8       day9      day10       ...            day55  \\\n",
       "0    20569.0 -1346116.0  -123284.0  2041178.0       ...         599768.0   \n",
       "1 -1498000.0  1686526.0   798516.0  -182297.0       ...         389116.0   \n",
       "2   762411.0 -1890897.0   100861.0   903863.0       ...        -551595.0   \n",
       "3   -33723.0   181003.0 -1184629.0    93934.0       ...       -1079396.0   \n",
       "4 -1578544.0   103410.0  1936519.0   190973.0       ...         445844.0   \n",
       "\n",
       "       day56      day57      day58     day59         day60    AMOUNT_DUE  \\\n",
       "0  1549013.0   246688.0 -1749275.0  146308.0  9.462532e+05  1.019017e+05   \n",
       "1 -1993933.0  1726972.0   -56025.0 -814591.0  1.898289e+06  1.743066e+06   \n",
       "2  2873031.0  -515577.0  -448483.0  140469.0 -1.558956e+05  1.389400e+05   \n",
       "3  1756527.0  -304439.0  -126413.0  -38829.0 -3.201768e+05  1.248517e+05   \n",
       "4 -2440201.0  1354099.0   595820.0  529848.0 -8.227565e+05  3.893303e+04   \n",
       "\n",
       "   SAVING_BALANCE  BOT_JOB  balance_change  \n",
       "0    7.471732e+05        1    1.693426e+06  \n",
       "1    1.883251e+06        0    3.781539e+06  \n",
       "2    4.453994e+05        0    2.895039e+05  \n",
       "3    3.040092e+05        0   -1.616757e+04  \n",
       "4    1.730275e+05        1   -6.497290e+05  \n",
       "\n",
       "[5 rows x 64 columns]"
      ]
     },
     "execution_count": 160,
     "metadata": {},
     "output_type": "execute_result"
    }
   ],
   "source": [
    "# bank_df.head()"
   ]
  },
  {
   "cell_type": "code",
   "execution_count": null,
   "metadata": {
    "collapsed": true
   },
   "outputs": [],
   "source": []
  },
  {
   "cell_type": "code",
   "execution_count": null,
   "metadata": {
    "collapsed": true
   },
   "outputs": [],
   "source": []
  },
  {
   "cell_type": "code",
   "execution_count": null,
   "metadata": {
    "collapsed": true
   },
   "outputs": [],
   "source": []
  },
  {
   "cell_type": "code",
   "execution_count": null,
   "metadata": {
    "collapsed": true
   },
   "outputs": [],
   "source": []
  },
  {
   "cell_type": "code",
   "execution_count": null,
   "metadata": {
    "collapsed": true
   },
   "outputs": [],
   "source": []
  },
  {
   "cell_type": "code",
   "execution_count": null,
   "metadata": {
    "collapsed": true
   },
   "outputs": [],
   "source": []
  },
  {
   "cell_type": "code",
   "execution_count": null,
   "metadata": {
    "collapsed": true
   },
   "outputs": [],
   "source": []
  },
  {
   "cell_type": "code",
   "execution_count": null,
   "metadata": {
    "collapsed": true
   },
   "outputs": [],
   "source": []
  }
 ],
 "metadata": {
  "kernelspec": {
   "display_name": "Python 2",
   "language": "python",
   "name": "python2"
  },
  "language_info": {
   "codemirror_mode": {
    "name": "ipython",
    "version": 2
   },
   "file_extension": ".py",
   "mimetype": "text/x-python",
   "name": "python",
   "nbconvert_exporter": "python",
   "pygments_lexer": "ipython2",
   "version": "2.7"
  }
 },
 "nbformat": 4,
 "nbformat_minor": 2
}
